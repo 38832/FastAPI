{
 "cells": [
  {
   "cell_type": "code",
   "execution_count": 7,
   "metadata": {
    "executionInfo": {
     "elapsed": 4813,
     "status": "ok",
     "timestamp": 1732813634211,
     "user": {
      "displayName": "Anup Bhagat",
      "userId": "05344097079751215718"
     },
     "user_tz": -330
    },
    "id": "PCNKwU0eAa7b"
   },
   "outputs": [],
   "source": [
    "import pandas as pd\n",
    "from sklearn.model_selection import train_test_split\n",
    "from sklearn.ensemble import RandomForestClassifier\n",
    "from sklearn.metrics import classification_report\n",
    "from sklearn.impute import SimpleImputer"
   ]
  },
  {
   "cell_type": "code",
   "execution_count": 8,
   "metadata": {
    "colab": {
     "base_uri": "https://localhost:8080/",
     "height": 313
    },
    "executionInfo": {
     "elapsed": 72,
     "status": "ok",
     "timestamp": 1732813634216,
     "user": {
      "displayName": "Anup Bhagat",
      "userId": "05344097079751215718"
     },
     "user_tz": -330
    },
    "id": "8kKhQ4P7A6dM",
    "outputId": "54b05433-66dd-4f90-dc34-c02f805be977"
   },
   "outputs": [
    {
     "data": {
      "text/html": [
       "<div>\n",
       "<style scoped>\n",
       "    .dataframe tbody tr th:only-of-type {\n",
       "        vertical-align: middle;\n",
       "    }\n",
       "\n",
       "    .dataframe tbody tr th {\n",
       "        vertical-align: top;\n",
       "    }\n",
       "\n",
       "    .dataframe thead th {\n",
       "        text-align: right;\n",
       "    }\n",
       "</style>\n",
       "<table border=\"1\" class=\"dataframe\">\n",
       "  <thead>\n",
       "    <tr style=\"text-align: right;\">\n",
       "      <th></th>\n",
       "      <th>Age</th>\n",
       "      <th>Position</th>\n",
       "      <th>Previous_Injuries</th>\n",
       "      <th>Type_of_Previous_Injury</th>\n",
       "      <th>Fitness_Level</th>\n",
       "      <th>Training_Hours_Per_Week</th>\n",
       "      <th>Sleep_Hours_Per_Night</th>\n",
       "      <th>Nutrition_Habits</th>\n",
       "      <th>Hydration_Level</th>\n",
       "      <th>Injury_Likelihood</th>\n",
       "      <th>Preventive_Techniques</th>\n",
       "      <th>Type_of_Injury_Predicted</th>\n",
       "    </tr>\n",
       "  </thead>\n",
       "  <tbody>\n",
       "    <tr>\n",
       "      <th>0</th>\n",
       "      <td>25</td>\n",
       "      <td>Forward</td>\n",
       "      <td>2</td>\n",
       "      <td>Hamstring Strain</td>\n",
       "      <td>High</td>\n",
       "      <td>10</td>\n",
       "      <td>7</td>\n",
       "      <td>Balanced</td>\n",
       "      <td>Adequate</td>\n",
       "      <td>Low</td>\n",
       "      <td>Regular stretching, warm-up, cooldown</td>\n",
       "      <td>Muscle Strain</td>\n",
       "    </tr>\n",
       "    <tr>\n",
       "      <th>1</th>\n",
       "      <td>28</td>\n",
       "      <td>Midfielder</td>\n",
       "      <td>1</td>\n",
       "      <td>Ankle Sprain</td>\n",
       "      <td>Moderate</td>\n",
       "      <td>8</td>\n",
       "      <td>6</td>\n",
       "      <td>Varied</td>\n",
       "      <td>Insufficient</td>\n",
       "      <td>Moderate</td>\n",
       "      <td>Injury-specific strength training</td>\n",
       "      <td>Ligament Sprain</td>\n",
       "    </tr>\n",
       "    <tr>\n",
       "      <th>2</th>\n",
       "      <td>23</td>\n",
       "      <td>Defender</td>\n",
       "      <td>0</td>\n",
       "      <td>-</td>\n",
       "      <td>High</td>\n",
       "      <td>12</td>\n",
       "      <td>8</td>\n",
       "      <td>High Protein</td>\n",
       "      <td>Optimal</td>\n",
       "      <td>Low</td>\n",
       "      <td>Proper biomechanics during training sessions</td>\n",
       "      <td>No Injury (Low Risk)</td>\n",
       "    </tr>\n",
       "    <tr>\n",
       "      <th>3</th>\n",
       "      <td>30</td>\n",
       "      <td>Goalkeeper</td>\n",
       "      <td>3</td>\n",
       "      <td>Concussion</td>\n",
       "      <td>Moderate</td>\n",
       "      <td>6</td>\n",
       "      <td>7</td>\n",
       "      <td>Balanced</td>\n",
       "      <td>Adequate</td>\n",
       "      <td>High</td>\n",
       "      <td>Goalkeeper-specific injury prevention drills</td>\n",
       "      <td>Head Injury (High Risk)</td>\n",
       "    </tr>\n",
       "    <tr>\n",
       "      <th>4</th>\n",
       "      <td>27</td>\n",
       "      <td>Midfielder</td>\n",
       "      <td>1</td>\n",
       "      <td>Groin Strain</td>\n",
       "      <td>High</td>\n",
       "      <td>9</td>\n",
       "      <td>7</td>\n",
       "      <td>Varied</td>\n",
       "      <td>Adequate</td>\n",
       "      <td>Moderate</td>\n",
       "      <td>Agility and quickness exercises</td>\n",
       "      <td>Muscle Strain</td>\n",
       "    </tr>\n",
       "  </tbody>\n",
       "</table>\n",
       "</div>"
      ],
      "text/plain": [
       "   Age    Position  Previous_Injuries Type_of_Previous_Injury Fitness_Level  \\\n",
       "0   25     Forward                  2        Hamstring Strain          High   \n",
       "1   28  Midfielder                  1            Ankle Sprain      Moderate   \n",
       "2   23    Defender                  0                       -          High   \n",
       "3   30  Goalkeeper                  3              Concussion      Moderate   \n",
       "4   27  Midfielder                  1            Groin Strain          High   \n",
       "\n",
       "   Training_Hours_Per_Week  Sleep_Hours_Per_Night Nutrition_Habits  \\\n",
       "0                       10                      7         Balanced   \n",
       "1                        8                      6           Varied   \n",
       "2                       12                      8     High Protein   \n",
       "3                        6                      7         Balanced   \n",
       "4                        9                      7           Varied   \n",
       "\n",
       "  Hydration_Level Injury_Likelihood  \\\n",
       "0        Adequate               Low   \n",
       "1    Insufficient          Moderate   \n",
       "2         Optimal               Low   \n",
       "3        Adequate              High   \n",
       "4        Adequate          Moderate   \n",
       "\n",
       "                          Preventive_Techniques Type_of_Injury_Predicted  \n",
       "0         Regular stretching, warm-up, cooldown            Muscle Strain  \n",
       "1             Injury-specific strength training          Ligament Sprain  \n",
       "2  Proper biomechanics during training sessions     No Injury (Low Risk)  \n",
       "3  Goalkeeper-specific injury prevention drills  Head Injury (High Risk)  \n",
       "4               Agility and quickness exercises            Muscle Strain  "
      ]
     },
     "execution_count": 8,
     "metadata": {},
     "output_type": "execute_result"
    }
   ],
   "source": [
    "data = pd.read_csv(\"injury_pred.csv\")\n",
    "data.head()"
   ]
  },
  {
   "cell_type": "code",
   "execution_count": 9,
   "metadata": {
    "executionInfo": {
     "elapsed": 67,
     "status": "ok",
     "timestamp": 1732813634216,
     "user": {
      "displayName": "Anup Bhagat",
      "userId": "05344097079751215718"
     },
     "user_tz": -330
    },
    "id": "CVmguI3xQCit"
   },
   "outputs": [],
   "source": [
    "data['Nutrition_Habits'] = data['Nutrition_Habits'].map({'Balanced': 1, 'Varied': 2, 'High Protein': 3})\n",
    "data['Hydration_Level'] = data['Hydration_Level'].map({'Adequate': 1, 'Insufficient': 2, 'Optimal': 3})\n",
    "data['Fitness_Level'] = data['Fitness_Level'].map({'Low': 1, 'Moderate': 2, 'High': 3})"
   ]
  },
  {
   "cell_type": "code",
   "execution_count": 10,
   "metadata": {
    "executionInfo": {
     "elapsed": 72,
     "status": "ok",
     "timestamp": 1732813634222,
     "user": {
      "displayName": "Anup Bhagat",
      "userId": "05344097079751215718"
     },
     "user_tz": -330
    },
    "id": "sJ3W6vlZRgo2"
   },
   "outputs": [],
   "source": [
    "X = data[['Age', 'Previous_Injuries', 'Training_Hours_Per_Week', 'Sleep_Hours_Per_Night', 'Hydration_Level', 'Nutrition_Habits', 'Fitness_Level']]"
   ]
  },
  {
   "cell_type": "code",
   "execution_count": 11,
   "metadata": {
    "executionInfo": {
     "elapsed": 72,
     "status": "ok",
     "timestamp": 1732813634226,
     "user": {
      "displayName": "Anup Bhagat",
      "userId": "05344097079751215718"
     },
     "user_tz": -330
    },
    "id": "31ZiHuLBRk-r"
   },
   "outputs": [],
   "source": [
    "y = data[['Injury_Likelihood', 'Preventive_Techniques', 'Type_of_Injury_Predicted']]"
   ]
  },
  {
   "cell_type": "code",
   "execution_count": 12,
   "metadata": {
    "executionInfo": {
     "elapsed": 73,
     "status": "ok",
     "timestamp": 1732813634228,
     "user": {
      "displayName": "Anup Bhagat",
      "userId": "05344097079751215718"
     },
     "user_tz": -330
    },
    "id": "3I4SZdZWRqPD"
   },
   "outputs": [],
   "source": [
    "X_train, X_test, y_train, y_test = train_test_split(X, y, test_size=0.2, random_state=42)"
   ]
  },
  {
   "cell_type": "code",
   "execution_count": 13,
   "metadata": {
    "executionInfo": {
     "elapsed": 72,
     "status": "ok",
     "timestamp": 1732813634229,
     "user": {
      "displayName": "Anup Bhagat",
      "userId": "05344097079751215718"
     },
     "user_tz": -330
    },
    "id": "5-AKI9g_R-OF"
   },
   "outputs": [],
   "source": [
    "imputer = SimpleImputer(strategy='mean')\n",
    "X_imputed = imputer.fit_transform(X)"
   ]
  },
  {
   "cell_type": "code",
   "execution_count": 14,
   "metadata": {
    "colab": {
     "base_uri": "https://localhost:8080/",
     "height": 100
    },
    "executionInfo": {
     "elapsed": 72,
     "status": "ok",
     "timestamp": 1732813634230,
     "user": {
      "displayName": "Anup Bhagat",
      "userId": "05344097079751215718"
     },
     "user_tz": -330
    },
    "id": "HdZXk3hiN2Vh",
    "outputId": "426ba9c8-9ce2-4b72-ee1e-5badc80a9511"
   },
   "outputs": [
    {
     "data": {
      "text/html": [
       "<style>#sk-container-id-1 {\n",
       "  /* Definition of color scheme common for light and dark mode */\n",
       "  --sklearn-color-text: black;\n",
       "  --sklearn-color-line: gray;\n",
       "  /* Definition of color scheme for unfitted estimators */\n",
       "  --sklearn-color-unfitted-level-0: #fff5e6;\n",
       "  --sklearn-color-unfitted-level-1: #f6e4d2;\n",
       "  --sklearn-color-unfitted-level-2: #ffe0b3;\n",
       "  --sklearn-color-unfitted-level-3: chocolate;\n",
       "  /* Definition of color scheme for fitted estimators */\n",
       "  --sklearn-color-fitted-level-0: #f0f8ff;\n",
       "  --sklearn-color-fitted-level-1: #d4ebff;\n",
       "  --sklearn-color-fitted-level-2: #b3dbfd;\n",
       "  --sklearn-color-fitted-level-3: cornflowerblue;\n",
       "\n",
       "  /* Specific color for light theme */\n",
       "  --sklearn-color-text-on-default-background: var(--sg-text-color, var(--theme-code-foreground, var(--jp-content-font-color1, black)));\n",
       "  --sklearn-color-background: var(--sg-background-color, var(--theme-background, var(--jp-layout-color0, white)));\n",
       "  --sklearn-color-border-box: var(--sg-text-color, var(--theme-code-foreground, var(--jp-content-font-color1, black)));\n",
       "  --sklearn-color-icon: #696969;\n",
       "\n",
       "  @media (prefers-color-scheme: dark) {\n",
       "    /* Redefinition of color scheme for dark theme */\n",
       "    --sklearn-color-text-on-default-background: var(--sg-text-color, var(--theme-code-foreground, var(--jp-content-font-color1, white)));\n",
       "    --sklearn-color-background: var(--sg-background-color, var(--theme-background, var(--jp-layout-color0, #111)));\n",
       "    --sklearn-color-border-box: var(--sg-text-color, var(--theme-code-foreground, var(--jp-content-font-color1, white)));\n",
       "    --sklearn-color-icon: #878787;\n",
       "  }\n",
       "}\n",
       "\n",
       "#sk-container-id-1 {\n",
       "  color: var(--sklearn-color-text);\n",
       "}\n",
       "\n",
       "#sk-container-id-1 pre {\n",
       "  padding: 0;\n",
       "}\n",
       "\n",
       "#sk-container-id-1 input.sk-hidden--visually {\n",
       "  border: 0;\n",
       "  clip: rect(1px 1px 1px 1px);\n",
       "  clip: rect(1px, 1px, 1px, 1px);\n",
       "  height: 1px;\n",
       "  margin: -1px;\n",
       "  overflow: hidden;\n",
       "  padding: 0;\n",
       "  position: absolute;\n",
       "  width: 1px;\n",
       "}\n",
       "\n",
       "#sk-container-id-1 div.sk-dashed-wrapped {\n",
       "  border: 1px dashed var(--sklearn-color-line);\n",
       "  margin: 0 0.4em 0.5em 0.4em;\n",
       "  box-sizing: border-box;\n",
       "  padding-bottom: 0.4em;\n",
       "  background-color: var(--sklearn-color-background);\n",
       "}\n",
       "\n",
       "#sk-container-id-1 div.sk-container {\n",
       "  /* jupyter's `normalize.less` sets `[hidden] { display: none; }`\n",
       "     but bootstrap.min.css set `[hidden] { display: none !important; }`\n",
       "     so we also need the `!important` here to be able to override the\n",
       "     default hidden behavior on the sphinx rendered scikit-learn.org.\n",
       "     See: https://github.com/scikit-learn/scikit-learn/issues/21755 */\n",
       "  display: inline-block !important;\n",
       "  position: relative;\n",
       "}\n",
       "\n",
       "#sk-container-id-1 div.sk-text-repr-fallback {\n",
       "  display: none;\n",
       "}\n",
       "\n",
       "div.sk-parallel-item,\n",
       "div.sk-serial,\n",
       "div.sk-item {\n",
       "  /* draw centered vertical line to link estimators */\n",
       "  background-image: linear-gradient(var(--sklearn-color-text-on-default-background), var(--sklearn-color-text-on-default-background));\n",
       "  background-size: 2px 100%;\n",
       "  background-repeat: no-repeat;\n",
       "  background-position: center center;\n",
       "}\n",
       "\n",
       "/* Parallel-specific style estimator block */\n",
       "\n",
       "#sk-container-id-1 div.sk-parallel-item::after {\n",
       "  content: \"\";\n",
       "  width: 100%;\n",
       "  border-bottom: 2px solid var(--sklearn-color-text-on-default-background);\n",
       "  flex-grow: 1;\n",
       "}\n",
       "\n",
       "#sk-container-id-1 div.sk-parallel {\n",
       "  display: flex;\n",
       "  align-items: stretch;\n",
       "  justify-content: center;\n",
       "  background-color: var(--sklearn-color-background);\n",
       "  position: relative;\n",
       "}\n",
       "\n",
       "#sk-container-id-1 div.sk-parallel-item {\n",
       "  display: flex;\n",
       "  flex-direction: column;\n",
       "}\n",
       "\n",
       "#sk-container-id-1 div.sk-parallel-item:first-child::after {\n",
       "  align-self: flex-end;\n",
       "  width: 50%;\n",
       "}\n",
       "\n",
       "#sk-container-id-1 div.sk-parallel-item:last-child::after {\n",
       "  align-self: flex-start;\n",
       "  width: 50%;\n",
       "}\n",
       "\n",
       "#sk-container-id-1 div.sk-parallel-item:only-child::after {\n",
       "  width: 0;\n",
       "}\n",
       "\n",
       "/* Serial-specific style estimator block */\n",
       "\n",
       "#sk-container-id-1 div.sk-serial {\n",
       "  display: flex;\n",
       "  flex-direction: column;\n",
       "  align-items: center;\n",
       "  background-color: var(--sklearn-color-background);\n",
       "  padding-right: 1em;\n",
       "  padding-left: 1em;\n",
       "}\n",
       "\n",
       "\n",
       "/* Toggleable style: style used for estimator/Pipeline/ColumnTransformer box that is\n",
       "clickable and can be expanded/collapsed.\n",
       "- Pipeline and ColumnTransformer use this feature and define the default style\n",
       "- Estimators will overwrite some part of the style using the `sk-estimator` class\n",
       "*/\n",
       "\n",
       "/* Pipeline and ColumnTransformer style (default) */\n",
       "\n",
       "#sk-container-id-1 div.sk-toggleable {\n",
       "  /* Default theme specific background. It is overwritten whether we have a\n",
       "  specific estimator or a Pipeline/ColumnTransformer */\n",
       "  background-color: var(--sklearn-color-background);\n",
       "}\n",
       "\n",
       "/* Toggleable label */\n",
       "#sk-container-id-1 label.sk-toggleable__label {\n",
       "  cursor: pointer;\n",
       "  display: block;\n",
       "  width: 100%;\n",
       "  margin-bottom: 0;\n",
       "  padding: 0.5em;\n",
       "  box-sizing: border-box;\n",
       "  text-align: center;\n",
       "}\n",
       "\n",
       "#sk-container-id-1 label.sk-toggleable__label-arrow:before {\n",
       "  /* Arrow on the left of the label */\n",
       "  content: \"▸\";\n",
       "  float: left;\n",
       "  margin-right: 0.25em;\n",
       "  color: var(--sklearn-color-icon);\n",
       "}\n",
       "\n",
       "#sk-container-id-1 label.sk-toggleable__label-arrow:hover:before {\n",
       "  color: var(--sklearn-color-text);\n",
       "}\n",
       "\n",
       "/* Toggleable content - dropdown */\n",
       "\n",
       "#sk-container-id-1 div.sk-toggleable__content {\n",
       "  max-height: 0;\n",
       "  max-width: 0;\n",
       "  overflow: hidden;\n",
       "  text-align: left;\n",
       "  /* unfitted */\n",
       "  background-color: var(--sklearn-color-unfitted-level-0);\n",
       "}\n",
       "\n",
       "#sk-container-id-1 div.sk-toggleable__content.fitted {\n",
       "  /* fitted */\n",
       "  background-color: var(--sklearn-color-fitted-level-0);\n",
       "}\n",
       "\n",
       "#sk-container-id-1 div.sk-toggleable__content pre {\n",
       "  margin: 0.2em;\n",
       "  border-radius: 0.25em;\n",
       "  color: var(--sklearn-color-text);\n",
       "  /* unfitted */\n",
       "  background-color: var(--sklearn-color-unfitted-level-0);\n",
       "}\n",
       "\n",
       "#sk-container-id-1 div.sk-toggleable__content.fitted pre {\n",
       "  /* unfitted */\n",
       "  background-color: var(--sklearn-color-fitted-level-0);\n",
       "}\n",
       "\n",
       "#sk-container-id-1 input.sk-toggleable__control:checked~div.sk-toggleable__content {\n",
       "  /* Expand drop-down */\n",
       "  max-height: 200px;\n",
       "  max-width: 100%;\n",
       "  overflow: auto;\n",
       "}\n",
       "\n",
       "#sk-container-id-1 input.sk-toggleable__control:checked~label.sk-toggleable__label-arrow:before {\n",
       "  content: \"▾\";\n",
       "}\n",
       "\n",
       "/* Pipeline/ColumnTransformer-specific style */\n",
       "\n",
       "#sk-container-id-1 div.sk-label input.sk-toggleable__control:checked~label.sk-toggleable__label {\n",
       "  color: var(--sklearn-color-text);\n",
       "  background-color: var(--sklearn-color-unfitted-level-2);\n",
       "}\n",
       "\n",
       "#sk-container-id-1 div.sk-label.fitted input.sk-toggleable__control:checked~label.sk-toggleable__label {\n",
       "  background-color: var(--sklearn-color-fitted-level-2);\n",
       "}\n",
       "\n",
       "/* Estimator-specific style */\n",
       "\n",
       "/* Colorize estimator box */\n",
       "#sk-container-id-1 div.sk-estimator input.sk-toggleable__control:checked~label.sk-toggleable__label {\n",
       "  /* unfitted */\n",
       "  background-color: var(--sklearn-color-unfitted-level-2);\n",
       "}\n",
       "\n",
       "#sk-container-id-1 div.sk-estimator.fitted input.sk-toggleable__control:checked~label.sk-toggleable__label {\n",
       "  /* fitted */\n",
       "  background-color: var(--sklearn-color-fitted-level-2);\n",
       "}\n",
       "\n",
       "#sk-container-id-1 div.sk-label label.sk-toggleable__label,\n",
       "#sk-container-id-1 div.sk-label label {\n",
       "  /* The background is the default theme color */\n",
       "  color: var(--sklearn-color-text-on-default-background);\n",
       "}\n",
       "\n",
       "/* On hover, darken the color of the background */\n",
       "#sk-container-id-1 div.sk-label:hover label.sk-toggleable__label {\n",
       "  color: var(--sklearn-color-text);\n",
       "  background-color: var(--sklearn-color-unfitted-level-2);\n",
       "}\n",
       "\n",
       "/* Label box, darken color on hover, fitted */\n",
       "#sk-container-id-1 div.sk-label.fitted:hover label.sk-toggleable__label.fitted {\n",
       "  color: var(--sklearn-color-text);\n",
       "  background-color: var(--sklearn-color-fitted-level-2);\n",
       "}\n",
       "\n",
       "/* Estimator label */\n",
       "\n",
       "#sk-container-id-1 div.sk-label label {\n",
       "  font-family: monospace;\n",
       "  font-weight: bold;\n",
       "  display: inline-block;\n",
       "  line-height: 1.2em;\n",
       "}\n",
       "\n",
       "#sk-container-id-1 div.sk-label-container {\n",
       "  text-align: center;\n",
       "}\n",
       "\n",
       "/* Estimator-specific */\n",
       "#sk-container-id-1 div.sk-estimator {\n",
       "  font-family: monospace;\n",
       "  border: 1px dotted var(--sklearn-color-border-box);\n",
       "  border-radius: 0.25em;\n",
       "  box-sizing: border-box;\n",
       "  margin-bottom: 0.5em;\n",
       "  /* unfitted */\n",
       "  background-color: var(--sklearn-color-unfitted-level-0);\n",
       "}\n",
       "\n",
       "#sk-container-id-1 div.sk-estimator.fitted {\n",
       "  /* fitted */\n",
       "  background-color: var(--sklearn-color-fitted-level-0);\n",
       "}\n",
       "\n",
       "/* on hover */\n",
       "#sk-container-id-1 div.sk-estimator:hover {\n",
       "  /* unfitted */\n",
       "  background-color: var(--sklearn-color-unfitted-level-2);\n",
       "}\n",
       "\n",
       "#sk-container-id-1 div.sk-estimator.fitted:hover {\n",
       "  /* fitted */\n",
       "  background-color: var(--sklearn-color-fitted-level-2);\n",
       "}\n",
       "\n",
       "/* Specification for estimator info (e.g. \"i\" and \"?\") */\n",
       "\n",
       "/* Common style for \"i\" and \"?\" */\n",
       "\n",
       ".sk-estimator-doc-link,\n",
       "a:link.sk-estimator-doc-link,\n",
       "a:visited.sk-estimator-doc-link {\n",
       "  float: right;\n",
       "  font-size: smaller;\n",
       "  line-height: 1em;\n",
       "  font-family: monospace;\n",
       "  background-color: var(--sklearn-color-background);\n",
       "  border-radius: 1em;\n",
       "  height: 1em;\n",
       "  width: 1em;\n",
       "  text-decoration: none !important;\n",
       "  margin-left: 1ex;\n",
       "  /* unfitted */\n",
       "  border: var(--sklearn-color-unfitted-level-1) 1pt solid;\n",
       "  color: var(--sklearn-color-unfitted-level-1);\n",
       "}\n",
       "\n",
       ".sk-estimator-doc-link.fitted,\n",
       "a:link.sk-estimator-doc-link.fitted,\n",
       "a:visited.sk-estimator-doc-link.fitted {\n",
       "  /* fitted */\n",
       "  border: var(--sklearn-color-fitted-level-1) 1pt solid;\n",
       "  color: var(--sklearn-color-fitted-level-1);\n",
       "}\n",
       "\n",
       "/* On hover */\n",
       "div.sk-estimator:hover .sk-estimator-doc-link:hover,\n",
       ".sk-estimator-doc-link:hover,\n",
       "div.sk-label-container:hover .sk-estimator-doc-link:hover,\n",
       ".sk-estimator-doc-link:hover {\n",
       "  /* unfitted */\n",
       "  background-color: var(--sklearn-color-unfitted-level-3);\n",
       "  color: var(--sklearn-color-background);\n",
       "  text-decoration: none;\n",
       "}\n",
       "\n",
       "div.sk-estimator.fitted:hover .sk-estimator-doc-link.fitted:hover,\n",
       ".sk-estimator-doc-link.fitted:hover,\n",
       "div.sk-label-container:hover .sk-estimator-doc-link.fitted:hover,\n",
       ".sk-estimator-doc-link.fitted:hover {\n",
       "  /* fitted */\n",
       "  background-color: var(--sklearn-color-fitted-level-3);\n",
       "  color: var(--sklearn-color-background);\n",
       "  text-decoration: none;\n",
       "}\n",
       "\n",
       "/* Span, style for the box shown on hovering the info icon */\n",
       ".sk-estimator-doc-link span {\n",
       "  display: none;\n",
       "  z-index: 9999;\n",
       "  position: relative;\n",
       "  font-weight: normal;\n",
       "  right: .2ex;\n",
       "  padding: .5ex;\n",
       "  margin: .5ex;\n",
       "  width: min-content;\n",
       "  min-width: 20ex;\n",
       "  max-width: 50ex;\n",
       "  color: var(--sklearn-color-text);\n",
       "  box-shadow: 2pt 2pt 4pt #999;\n",
       "  /* unfitted */\n",
       "  background: var(--sklearn-color-unfitted-level-0);\n",
       "  border: .5pt solid var(--sklearn-color-unfitted-level-3);\n",
       "}\n",
       "\n",
       ".sk-estimator-doc-link.fitted span {\n",
       "  /* fitted */\n",
       "  background: var(--sklearn-color-fitted-level-0);\n",
       "  border: var(--sklearn-color-fitted-level-3);\n",
       "}\n",
       "\n",
       ".sk-estimator-doc-link:hover span {\n",
       "  display: block;\n",
       "}\n",
       "\n",
       "/* \"?\"-specific style due to the `<a>` HTML tag */\n",
       "\n",
       "#sk-container-id-1 a.estimator_doc_link {\n",
       "  float: right;\n",
       "  font-size: 1rem;\n",
       "  line-height: 1em;\n",
       "  font-family: monospace;\n",
       "  background-color: var(--sklearn-color-background);\n",
       "  border-radius: 1rem;\n",
       "  height: 1rem;\n",
       "  width: 1rem;\n",
       "  text-decoration: none;\n",
       "  /* unfitted */\n",
       "  color: var(--sklearn-color-unfitted-level-1);\n",
       "  border: var(--sklearn-color-unfitted-level-1) 1pt solid;\n",
       "}\n",
       "\n",
       "#sk-container-id-1 a.estimator_doc_link.fitted {\n",
       "  /* fitted */\n",
       "  border: var(--sklearn-color-fitted-level-1) 1pt solid;\n",
       "  color: var(--sklearn-color-fitted-level-1);\n",
       "}\n",
       "\n",
       "/* On hover */\n",
       "#sk-container-id-1 a.estimator_doc_link:hover {\n",
       "  /* unfitted */\n",
       "  background-color: var(--sklearn-color-unfitted-level-3);\n",
       "  color: var(--sklearn-color-background);\n",
       "  text-decoration: none;\n",
       "}\n",
       "\n",
       "#sk-container-id-1 a.estimator_doc_link.fitted:hover {\n",
       "  /* fitted */\n",
       "  background-color: var(--sklearn-color-fitted-level-3);\n",
       "}\n",
       "</style><div id=\"sk-container-id-1\" class=\"sk-top-container\"><div class=\"sk-text-repr-fallback\"><pre>RandomForestClassifier(random_state=42)</pre><b>In a Jupyter environment, please rerun this cell to show the HTML representation or trust the notebook. <br />On GitHub, the HTML representation is unable to render, please try loading this page with nbviewer.org.</b></div><div class=\"sk-container\" hidden><div class=\"sk-item\"><div class=\"sk-estimator fitted sk-toggleable\"><input class=\"sk-toggleable__control sk-hidden--visually\" id=\"sk-estimator-id-1\" type=\"checkbox\" checked><label for=\"sk-estimator-id-1\" class=\"sk-toggleable__label fitted sk-toggleable__label-arrow fitted\">&nbsp;&nbsp;RandomForestClassifier<a class=\"sk-estimator-doc-link fitted\" rel=\"noreferrer\" target=\"_blank\" href=\"https://scikit-learn.org/1.5/modules/generated/sklearn.ensemble.RandomForestClassifier.html\">?<span>Documentation for RandomForestClassifier</span></a><span class=\"sk-estimator-doc-link fitted\">i<span>Fitted</span></span></label><div class=\"sk-toggleable__content fitted\"><pre>RandomForestClassifier(random_state=42)</pre></div> </div></div></div></div>"
      ],
      "text/plain": [
       "RandomForestClassifier(random_state=42)"
      ]
     },
     "execution_count": 14,
     "metadata": {},
     "output_type": "execute_result"
    }
   ],
   "source": [
    "model = RandomForestClassifier(n_estimators=100, random_state=42)\n",
    "model.fit(X_imputed, y)"
   ]
  },
  {
   "cell_type": "code",
   "execution_count": 15,
   "metadata": {
    "colab": {
     "base_uri": "https://localhost:8080/"
    },
    "executionInfo": {
     "elapsed": 57705,
     "status": "ok",
     "timestamp": 1732813691866,
     "user": {
      "displayName": "Anup Bhagat",
      "userId": "05344097079751215718"
     },
     "user_tz": -330
    },
    "id": "ZKdPSRY0TMJe",
    "outputId": "2faedb95-2d22-47d9-b78e-fd3a49326ed7"
   },
   "outputs": [
    {
     "name": "stdout",
     "output_type": "stream",
     "text": [
      "Please provide the following information:\n"
     ]
    }
   ],
   "source": [
    "print(\"Please provide the following information:\")\n",
    "age = int(input(\"Age: \"))\n",
    "previous_injuries = int(input(\"Previous Injuries: \"))\n",
    "training_hours_per_week = int(input(\"Training Hours Per Week: \"))\n",
    "sleep_hours_per_night = int(input(\"Sleep Hours Per Night: \"))\n",
    "hydration_level = int(input(\"Hydration Level (1: Adequate, 2: Insufficient, 3: Optimal): \"))\n",
    "nutrition_habits = int(input(\"Nutrition Habits (1: Balanced, 2: Varied, 3: High Protein): \"))\n",
    "fitness_level = int(input(\"Fitness Level (1: Low, 2: Moderate, 3: High): \"))"
   ]
  },
  {
   "cell_type": "code",
   "execution_count": 16,
   "metadata": {
    "executionInfo": {
     "elapsed": 32,
     "status": "ok",
     "timestamp": 1732813691870,
     "user": {
      "displayName": "Anup Bhagat",
      "userId": "05344097079751215718"
     },
     "user_tz": -330
    },
    "id": "8QCV0-ihTi9a"
   },
   "outputs": [],
   "source": [
    "player_data = [[age, previous_injuries, training_hours_per_week, sleep_hours_per_night, hydration_level, nutrition_habits, fitness_level]]\n",
    "player_df = pd.DataFrame(player_data, columns=['Age', 'Previous_Injuries', 'Training_Hours_Per_Week', 'Sleep_Hours_Per_Night', 'Hydration_Level', 'Nutrition_Habits', 'Fitness_Level'])"
   ]
  },
  {
   "cell_type": "code",
   "execution_count": 17,
   "metadata": {
    "executionInfo": {
     "elapsed": 29,
     "status": "ok",
     "timestamp": 1732813691871,
     "user": {
      "displayName": "Anup Bhagat",
      "userId": "05344097079751215718"
     },
     "user_tz": -330
    },
    "id": "o9WEDs32TmyY"
   },
   "outputs": [],
   "source": [
    "player_df_imputed = imputer.transform(player_df)"
   ]
  },
  {
   "cell_type": "code",
   "execution_count": 18,
   "metadata": {
    "executionInfo": {
     "elapsed": 29,
     "status": "ok",
     "timestamp": 1732813691872,
     "user": {
      "displayName": "Anup Bhagat",
      "userId": "05344097079751215718"
     },
     "user_tz": -330
    },
    "id": "pDLR8QR7Tqdj"
   },
   "outputs": [],
   "source": [
    "prediction = model.predict(player_df_imputed)"
   ]
  },
  {
   "cell_type": "code",
   "execution_count": 19,
   "metadata": {
    "colab": {
     "base_uri": "https://localhost:8080/"
    },
    "executionInfo": {
     "elapsed": 29,
     "status": "ok",
     "timestamp": 1732813691873,
     "user": {
      "displayName": "Anup Bhagat",
      "userId": "05344097079751215718"
     },
     "user_tz": -330
    },
    "id": "ANwcw22-Tu4i",
    "outputId": "e262208e-8bea-42ab-a4e6-4cfcdbdbf824"
   },
   "outputs": [
    {
     "name": "stdout",
     "output_type": "stream",
     "text": [
      "Predicted Injury Likelihood: Low\n",
      "Predictive Preventive Techniques: Stretching and mobility drills\n",
      "Predicted Type of Injury: No Injury (Low Risk)\n"
     ]
    }
   ],
   "source": [
    "print(\"Predicted Injury Likelihood:\", prediction[0][0])\n",
    "print(\"Predictive Preventive Techniques:\", prediction[0][1])\n",
    "print(\"Predicted Type of Injury:\", prediction[0][2])"
   ]
  },
  {
   "cell_type": "code",
   "execution_count": 20,
   "metadata": {
    "colab": {
     "base_uri": "https://localhost:8080/"
    },
    "executionInfo": {
     "elapsed": 26,
     "status": "ok",
     "timestamp": 1732813691873,
     "user": {
      "displayName": "Anup Bhagat",
      "userId": "05344097079751215718"
     },
     "user_tz": -330
    },
    "id": "mioqNZ2RN2OI",
    "outputId": "ae72add9-c972-4e9f-e0bf-e713241230b6"
   },
   "outputs": [
    {
     "name": "stderr",
     "output_type": "stream",
     "text": [
      "c:\\Users\\afand\\anaconda3\\Lib\\site-packages\\sklearn\\base.py:486: UserWarning: X has feature names, but RandomForestClassifier was fitted without feature names\n",
      "  warnings.warn(\n"
     ]
    }
   ],
   "source": [
    "y_pred = model.predict(X_test)"
   ]
  },
  {
   "cell_type": "code",
   "execution_count": 21,
   "metadata": {
    "colab": {
     "base_uri": "https://localhost:8080/"
    },
    "executionInfo": {
     "elapsed": 22,
     "status": "ok",
     "timestamp": 1732813691873,
     "user": {
      "displayName": "Anup Bhagat",
      "userId": "05344097079751215718"
     },
     "user_tz": -330
    },
    "id": "tpeGzNFSO3Dc",
    "outputId": "30617176-a82d-49e0-9265-d4fa6895eac2"
   },
   "outputs": [
    {
     "name": "stdout",
     "output_type": "stream",
     "text": [
      "Classification Report for Injury_Likelihood:\n",
      "              precision    recall  f1-score   support\n",
      "\n",
      "        High       1.00      0.96      0.98        27\n",
      "         Low       0.98      1.00      0.99        54\n",
      "    Moderate       0.97      0.97      0.97        30\n",
      "\n",
      "    accuracy                           0.98       111\n",
      "   macro avg       0.98      0.98      0.98       111\n",
      "weighted avg       0.98      0.98      0.98       111\n",
      "\n",
      "Classification Report for Preventive_Techniques:\n",
      "                                              precision    recall  f1-score   support\n",
      "\n",
      "                    Active recovery sessions       1.00      1.00      1.00         1\n",
      "             Agility and quickness exercises       1.00      0.20      0.33         5\n",
      "           Balance and proprioception drills       0.50      1.00      0.67         7\n",
      "                       Cooling down properly       1.00      1.00      1.00         3\n",
      "                    Core stability exercises       1.00      0.60      0.75        10\n",
      "                       Corrective stretching       0.00      0.00      0.00         1\n",
      "                 Dynamic stretching routines       1.00      0.50      0.67         4\n",
      "                    Dynamic warm-up routines       1.00      0.25      0.40         4\n",
      "           Eccentric strengthening exercises       1.00      0.50      0.67         2\n",
      "                       Flexibility exercises       0.40      0.25      0.31         8\n",
      "               Functional movement exercises       1.00      1.00      1.00         4\n",
      "               Functional movement screening       0.00      0.00      0.00         1\n",
      "Goalkeeper-specific injury prevention drills       1.00      1.00      1.00         5\n",
      "                Injury prevention screenings       1.00      1.00      1.00         1\n",
      "   Injury prevention workshops and education       1.00      1.00      1.00        10\n",
      "           Injury-specific strength training       0.50      1.00      0.67         1\n",
      "                    Joint mobility exercises       1.00      1.00      1.00         1\n",
      "              Neuromuscular control training       0.50      0.67      0.57         9\n",
      "                      Neuromuscular training       0.60      1.00      0.75         3\n",
      "        Periodic rest and recovery practices       1.00      1.00      1.00         2\n",
      "                        Plyometric exercises       1.00      1.00      1.00         6\n",
      "Proper biomechanics during training sessions       0.50      1.00      0.67         1\n",
      "         Proprioception and balance training       1.00      1.00      1.00         3\n",
      "                     Proprioceptive training       0.00      0.00      0.00         0\n",
      "                             Recovery shakes       0.00      0.00      0.00         1\n",
      "       Regular stretching, warm-up, cooldown       0.67      1.00      0.80         4\n",
      "                   Resistance band exercises       0.00      0.00      0.00         1\n",
      "              Resistance training with bands       1.00      1.00      1.00         2\n",
      "                           Strength training       0.00      0.00      0.00         3\n",
      "              Stretching and mobility drills       0.55      0.86      0.67         7\n",
      "                        Yoga for flexibility       0.00      0.00      0.00         1\n",
      "\n",
      "                                    accuracy                           0.71       111\n",
      "                                   macro avg       0.65      0.64      0.61       111\n",
      "                                weighted avg       0.75      0.71      0.69       111\n",
      "\n",
      "Classification Report for Type_of_Injury_Predicted:\n",
      "                              precision    recall  f1-score   support\n",
      "\n",
      "Cartilage Injury (High Risk)       1.00      1.00      1.00         3\n",
      "     Head Injury (High Risk)       1.00      1.00      1.00        13\n",
      "             Ligament Sprain       1.00      0.93      0.96        14\n",
      "               Ligament Tear       1.00      1.00      1.00        12\n",
      "               Muscle Strain       0.94      1.00      0.97        17\n",
      "        No Injury (Low Risk)       1.00      1.00      1.00        52\n",
      "\n",
      "                    accuracy                           0.99       111\n",
      "                   macro avg       0.99      0.99      0.99       111\n",
      "                weighted avg       0.99      0.99      0.99       111\n",
      "\n"
     ]
    },
    {
     "name": "stderr",
     "output_type": "stream",
     "text": [
      "c:\\Users\\afand\\anaconda3\\Lib\\site-packages\\sklearn\\metrics\\_classification.py:1531: UndefinedMetricWarning: Precision is ill-defined and being set to 0.0 in labels with no predicted samples. Use `zero_division` parameter to control this behavior.\n",
      "  _warn_prf(average, modifier, f\"{metric.capitalize()} is\", len(result))\n",
      "c:\\Users\\afand\\anaconda3\\Lib\\site-packages\\sklearn\\metrics\\_classification.py:1531: UndefinedMetricWarning: Recall is ill-defined and being set to 0.0 in labels with no true samples. Use `zero_division` parameter to control this behavior.\n",
      "  _warn_prf(average, modifier, f\"{metric.capitalize()} is\", len(result))\n",
      "c:\\Users\\afand\\anaconda3\\Lib\\site-packages\\sklearn\\metrics\\_classification.py:1531: UndefinedMetricWarning: Precision is ill-defined and being set to 0.0 in labels with no predicted samples. Use `zero_division` parameter to control this behavior.\n",
      "  _warn_prf(average, modifier, f\"{metric.capitalize()} is\", len(result))\n",
      "c:\\Users\\afand\\anaconda3\\Lib\\site-packages\\sklearn\\metrics\\_classification.py:1531: UndefinedMetricWarning: Recall is ill-defined and being set to 0.0 in labels with no true samples. Use `zero_division` parameter to control this behavior.\n",
      "  _warn_prf(average, modifier, f\"{metric.capitalize()} is\", len(result))\n",
      "c:\\Users\\afand\\anaconda3\\Lib\\site-packages\\sklearn\\metrics\\_classification.py:1531: UndefinedMetricWarning: Precision is ill-defined and being set to 0.0 in labels with no predicted samples. Use `zero_division` parameter to control this behavior.\n",
      "  _warn_prf(average, modifier, f\"{metric.capitalize()} is\", len(result))\n",
      "c:\\Users\\afand\\anaconda3\\Lib\\site-packages\\sklearn\\metrics\\_classification.py:1531: UndefinedMetricWarning: Recall is ill-defined and being set to 0.0 in labels with no true samples. Use `zero_division` parameter to control this behavior.\n",
      "  _warn_prf(average, modifier, f\"{metric.capitalize()} is\", len(result))\n"
     ]
    }
   ],
   "source": [
    "from sklearn.metrics import classification_report\n",
    "for i, target_name in enumerate(y_test.columns):\n",
    "    print(f\"Classification Report for {target_name}:\")\n",
    "    print(classification_report(y_test.iloc[:, i], y_pred[:, i]))"
   ]
  },
  {
   "cell_type": "code",
   "execution_count": 22,
   "metadata": {},
   "outputs": [
    {
     "data": {
      "text/plain": [
       "['injury_prediction_model.joblib']"
      ]
     },
     "execution_count": 22,
     "metadata": {},
     "output_type": "execute_result"
    }
   ],
   "source": [
    "from joblib import dump, load\n",
    "\n",
    "# Save the model\n",
    "dump(model, \"injury_prediction_model.joblib\")"
   ]
  }
 ],
 "metadata": {
  "colab": {
   "provenance": []
  },
  "kernelspec": {
   "display_name": "base",
   "language": "python",
   "name": "python3"
  },
  "language_info": {
   "codemirror_mode": {
    "name": "ipython",
    "version": 3
   },
   "file_extension": ".py",
   "mimetype": "text/x-python",
   "name": "python",
   "nbconvert_exporter": "python",
   "pygments_lexer": "ipython3",
   "version": "3.12.7"
  }
 },
 "nbformat": 4,
 "nbformat_minor": 0
}
